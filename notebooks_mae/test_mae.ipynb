{
 "cells": [
  {
   "cell_type": "code",
   "execution_count": 2,
   "id": "112f4b57-a2e6-428e-84e5-ccf4e116ad90",
   "metadata": {},
   "outputs": [],
   "source": [
    "import torch\n",
    "import MinkowskiEngine as ME\n",
    "from MinkowskiOps import (\n",
    "    to_sparse,\n",
    ")"
   ]
  },
  {
   "cell_type": "code",
   "execution_count": 34,
   "id": "fa21b53c-e782-402c-8c5c-d415d951e0fb",
   "metadata": {},
   "outputs": [],
   "source": [
    "a = torch.zeros(size=(1, 1, 5, 5))\n",
    "#a[0, 0, 0, 3] = 1\n",
    "#a[0, 0, 2, 3] = 1.5\n",
    "a[0, 0, 1, 4] = 1\n",
    "a[0, 0, 3, 4] = 1.5\n",
    "\n",
    "a_sparse = to_sparse(a)"
   ]
  },
  {
   "cell_type": "code",
   "execution_count": 35,
   "id": "905cff14-e7d3-4fff-95e8-f0bbf83593e8",
   "metadata": {},
   "outputs": [
    {
     "data": {
      "text/plain": [
       "SparseTensor(\n",
       "  coordinates=tensor([[0, 1, 4],\n",
       "        [0, 3, 4]], dtype=torch.int32)\n",
       "  features=tensor([[1.0000],\n",
       "        [1.5000]])\n",
       "  coordinate_map_key=coordinate map key:[1, 1]\n",
       "  coordinate_manager=CoordinateMapManagerCPU(\n",
       "\t[1, 1, \b\b]:\tCoordinateMapCPU:2x3\n",
       "\talgorithm=MinkowskiAlgorithm.DEFAULT\n",
       "  )\n",
       "  spatial dimension=2)"
      ]
     },
     "execution_count": 35,
     "metadata": {},
     "output_type": "execute_result"
    }
   ],
   "source": [
    "a_sparse"
   ]
  },
  {
   "cell_type": "code",
   "execution_count": 36,
   "id": "618ceb74-e374-45ca-9dd0-2cec83669baf",
   "metadata": {},
   "outputs": [],
   "source": [
    "a_dense = a_sparse.dense(shape=a.shape)[0]"
   ]
  },
  {
   "cell_type": "code",
   "execution_count": 37,
   "id": "a99d1a0a-44d3-4734-b686-4fd05fee9bf5",
   "metadata": {},
   "outputs": [
    {
     "data": {
      "text/plain": [
       "tensor([[[[0.0000, 0.0000, 0.0000, 0.0000, 0.0000],\n",
       "          [0.0000, 0.0000, 0.0000, 0.0000, 1.0000],\n",
       "          [0.0000, 0.0000, 0.0000, 0.0000, 0.0000],\n",
       "          [0.0000, 0.0000, 0.0000, 0.0000, 1.5000],\n",
       "          [0.0000, 0.0000, 0.0000, 0.0000, 0.0000]]]])"
      ]
     },
     "execution_count": 37,
     "metadata": {},
     "output_type": "execute_result"
    }
   ],
   "source": [
    "a"
   ]
  },
  {
   "cell_type": "code",
   "execution_count": 38,
   "id": "b4ee6506-4c99-4dd3-b286-5143658ece94",
   "metadata": {},
   "outputs": [
    {
     "data": {
      "text/plain": [
       "tensor([[[[0.0000, 0.0000, 0.0000, 0.0000, 0.0000],\n",
       "          [0.0000, 0.0000, 0.0000, 0.0000, 1.0000],\n",
       "          [0.0000, 0.0000, 0.0000, 0.0000, 0.0000],\n",
       "          [0.0000, 0.0000, 0.0000, 0.0000, 1.5000],\n",
       "          [0.0000, 0.0000, 0.0000, 0.0000, 0.0000]]]])"
      ]
     },
     "execution_count": 38,
     "metadata": {},
     "output_type": "execute_result"
    }
   ],
   "source": [
    "a_dense"
   ]
  },
  {
   "cell_type": "code",
   "execution_count": 39,
   "id": "13c217ca-29da-45fb-b397-9941a73f1d68",
   "metadata": {},
   "outputs": [],
   "source": [
    "global_avg_pool = ME.MinkowskiGlobalAvgPooling()\n",
    "pooled_sparse = global_avg_pool(a_sparse)\n",
    "pooled_dense = a_dense.mean(dim=tuple(range(2, a_dense.ndim)))  # mean over D1, D2, ...\n"
   ]
  },
  {
   "cell_type": "code",
   "execution_count": 40,
   "id": "1a076a30-b285-42a5-99f2-709077f0517a",
   "metadata": {},
   "outputs": [
    {
     "data": {
      "text/plain": [
       "SparseTensor(\n",
       "  coordinates=tensor([[0, 0, 0]], dtype=torch.int32)\n",
       "  features=tensor([[1.2500]])\n",
       "  coordinate_map_key=coordinate map key:[0, 0]\n",
       "  coordinate_manager=CoordinateMapManagerCPU(\n",
       "\t[0, 0, \b\b]:\tCoordinateMapCPU:1x3\n",
       "\t[1, 1, \b\b]:\tCoordinateMapCPU:2x3\n",
       "\talgorithm=MinkowskiAlgorithm.DEFAULT\n",
       "  )\n",
       "  spatial dimension=2)"
      ]
     },
     "execution_count": 40,
     "metadata": {},
     "output_type": "execute_result"
    }
   ],
   "source": [
    "pooled_sparse"
   ]
  },
  {
   "cell_type": "code",
   "execution_count": 41,
   "id": "86d20e2e-c074-42b1-90a8-1d2225f01ffc",
   "metadata": {},
   "outputs": [
    {
     "data": {
      "text/plain": [
       "tensor([[[[0.0000, 0.0000, 0.0000, 0.0000, 0.0000],\n",
       "          [0.0000, 0.0000, 0.0000, 0.0000, 1.0000],\n",
       "          [0.0000, 0.0000, 0.0000, 0.0000, 0.0000],\n",
       "          [0.0000, 0.0000, 0.0000, 0.0000, 1.5000],\n",
       "          [0.0000, 0.0000, 0.0000, 0.0000, 0.0000]]]])"
      ]
     },
     "execution_count": 41,
     "metadata": {},
     "output_type": "execute_result"
    }
   ],
   "source": [
    "a_dense"
   ]
  },
  {
   "cell_type": "code",
   "execution_count": 42,
   "id": "41edbc5b-5db7-4859-868b-997cce128e42",
   "metadata": {},
   "outputs": [
    {
     "data": {
      "text/plain": [
       "tensor([[0.1000]])"
      ]
     },
     "execution_count": 42,
     "metadata": {},
     "output_type": "execute_result"
    }
   ],
   "source": [
    "pooled_dense"
   ]
  },
  {
   "cell_type": "code",
   "execution_count": null,
   "id": "9bd96ff5-9ac8-4e04-afc8-2d0b968d43dd",
   "metadata": {},
   "outputs": [],
   "source": [
    "import sys\n",
    "import os\n",
    "import tqdm\n",
    "import gc\n",
    "import torch\n",
    "import numpy as np\n",
    "import pickle as pkl\n",
    "import matplotlib.pyplot as plt\n",
    "import matplotlib.colors as mcolors\n",
    "from matplotlib.colors import ListedColormap, BoundaryNorm\n",
    "\n",
    "module_path = os.path.abspath('..')\n",
    "if module_path not in sys.path:\n",
    "    sys.path.append(module_path)\n",
    "    \n",
    "from utils import ini_argparse, split_dataset\n",
    "from dataset import *\n",
    "from model import MaskedAutoencoderViT3DSparse\n",
    "\n",
    "import matplotlib\n",
    "from matplotlib.backends.backend_pdf import PdfPages\n",
    "from matplotlib import font_manager\n",
    "import matplotlib.colors as mcolors\n",
    "from matplotlib.colors import LogNorm\n",
    "import matplotlib.pyplot as plt\n",
    "\n",
    "# reset the plot configurations to default\n",
    "plt.rcdefaults()\n",
    "\n",
    "from pathlib import Path\n",
    "font_path = str(Path(matplotlib.get_data_path(), \"fonts/ttf/cmr10.ttf\"))\n",
    "font_manager.fontManager.addfont(font_path)\n",
    "prop = font_manager.FontProperties(fname=font_path)\n",
    "plt.rcParams['font.family'] = 'sans-serif'\n",
    "plt.rcParams['font.sans-serif'] = prop.get_name()\n",
    "plt.rcParams[\"axes.formatter.use_mathtext\"] = True\n",
    "params = {'mathtext.default': 'regular' }          \n",
    "plt.rcParams.update(params)"
   ]
  },
  {
   "cell_type": "code",
   "execution_count": null,
   "id": "c8a2f50e-eee8-470c-aa60-d59155695656",
   "metadata": {},
   "outputs": [],
   "source": [
    "# manually specify the GPUs to use\n",
    "os.environ[\"CUDA_DEVICE_ORDER\"]=\"PCI_BUS_ID\"\n",
    "os.environ[\"CUDA_VISIBLE_DEVICES\"]=\"0\"\n",
    "\n",
    "device = torch.device('cuda' if torch.cuda.is_available() else 'cpu')\n",
    "#device = torch.device('cpu')\n",
    "\n",
    "parser = ini_argparse()\n",
    "args = parser.parse_args([])\n",
    "args.train = False\n",
    "args.dataset_path = \"/scratch/salonso/sparse-nns/faser/events_v5.1b\"\n",
    "args.batch_size = 32\n",
    "args.sets_path = None#\"/scratch/salonso/sparse-nns/faser/events_v5.1/sets.pkl\"\n",
    "args.num_workers = 32\n",
    "args.load_seg = False\n",
    "args.stage1 = True\n",
    "args.train = False\n",
    "args.preprocessing_input = \"sqrt\"\n",
    "args.preprocessing_output = \"log\"\n",
    "args.standardize_input = \"z-score\"\n",
    "args.standardize_output = None\n",
    "\n",
    "print(\"\\n- Arguments:\")\n",
    "for arg, value in vars(args).items():\n",
    "    print(f\"  {arg}: {value}\")\n",
    "nb_gpus = len(args.gpus)\n",
    "gpus = [int(gpu) for gpu in args.gpus]"
   ]
  },
  {
   "cell_type": "code",
   "execution_count": null,
   "id": "96f5b26d-1bbb-4e2f-8a72-9c256250f560",
   "metadata": {
    "scrolled": true
   },
   "outputs": [],
   "source": [
    "dataset = SparseFASERCALDataset(args)\n",
    "args.batch_size = 1\n",
    "print(\"- Dataset size: {} events\".format(len(dataset)))\n",
    "train_loader, valid_loader, test_loader = split_dataset(dataset, args, splits=[0.6, 0.1, 0.3], test=True)"
   ]
  },
  {
   "cell_type": "code",
   "execution_count": null,
   "id": "26562129-7e27-43d6-bdff-99a4531a6db0",
   "metadata": {},
   "outputs": [],
   "source": [
    "model = MaskedAutoencoderViT3DSparse()\n",
    "checkpoint = torch.load(\"/scratch/salonso/sparse-nns/faser/deep_learning/faserDLTrans/checkpoints_final/mae_vit_v1/loss_val_total/last.ckpt\", map_location='cpu')\n",
    "\n",
    "# Remove the \"model.\" prefix frÇom the keys in the state_dict\n",
    "state_dict = {key.replace(\"model.\", \"\"): value for key, value in checkpoint['state_dict'].items() if key!=\"loss_occupancy.alpha\"}\n",
    "model.load_state_dict(state_dict, strict=True)\n",
    "model = model.to(device)\n",
    "\n",
    "total_params = sum(p.numel() for p in model.parameters() if p.requires_grad)\n",
    "print(\"Total trainable params model (total): {}\".format(total_params))"
   ]
  },
  {
   "cell_type": "code",
   "execution_count": null,
   "id": "857ce4a2-e75e-40d1-a669-c806e4940369",
   "metadata": {},
   "outputs": [],
   "source": [
    "from utils import arrange_truth\n",
    "from sklearn.metrics import confusion_matrix as sklearn_confusion_matrix\n",
    "from typing import Optional\n",
    "from collections import defaultdict\n",
    "\n",
    "def _arrange_batch(batch, device):\n",
    "    patches_charge = batch['patches_charge'].to(device)\n",
    "    patches_lepton = batch['patches_lepton'].to(device)\n",
    "    patches_seg = batch['patches_seg'].to(device)\n",
    "    patch_ids = batch['patch_ids'].to(device)\n",
    "    attn_mask = batch['attn_mask'].to(device)\n",
    "    faser_cal = batch['faser_cal_modules'].to(device)\n",
    "    rear_cal = batch['rear_cal_modules'].to(device)\n",
    "    rear_hcal = batch['rear_hcal_modules'].to(device)\n",
    "    global_scalars = batch['f_glob'].to(device)\n",
    "\n",
    "    return patches_charge, patches_lepton, patches_seg, patch_ids, attn_mask, faser_cal, rear_cal, rear_hcal, global_scalars\n",
    "    "
   ]
  },
  {
   "cell_type": "code",
   "execution_count": null,
   "id": "3afd5d8b-9bd3-48dd-822a-f809f1005574",
   "metadata": {},
   "outputs": [],
   "source": [
    "occ_pred.max()"
   ]
  },
  {
   "cell_type": "code",
   "execution_count": null,
   "id": "933d6c86-c7b4-4333-8350-e27897f99c3e",
   "metadata": {},
   "outputs": [],
   "source": [
    "model.eval()\n",
    "\n",
    "target_idx = 16 # 7, 11\n",
    "\n",
    "threshold = 0.5\n",
    "gen = torch.Generator(device=device)\n",
    "gen.manual_seed(0)\n",
    "\n",
    "t = tqdm.tqdm(enumerate(test_loader), total=len(test_loader), disable=False)\n",
    "for i, batch in t:\n",
    "    if i < target_idx:\n",
    "        continue\n",
    "        \n",
    "    torch.cuda.empty_cache()\n",
    "    gc.collect()\n",
    "\n",
    "    patches_charge, patches_lepton, patches_seg, patch_ids, attn_mask, *glob = _arrange_batch(batch, device)\n",
    "    \n",
    "    # Forward pass\n",
    "    _, preds, mask, individual_losses = model(\n",
    "        patches_charge, patches_lepton, patches_seg, patch_ids, attn_mask, glob, mask_ratio=0.5\n",
    "    )\n",
    "\n",
    "    patch_ids = patch_ids.cpu().squeeze()\n",
    "    mask = mask.cpu().squeeze().bool()\n",
    "    patch_ids_nonmasked = patch_ids[~mask]\n",
    "    patch_ids_masked = patch_ids[mask]\n",
    "    \n",
    "    patches_all = [x.cpu().squeeze(0) for x in (patches_charge, patches_lepton, patches_seg)]\n",
    "    patches_nonmasked = [x.cpu().squeeze(0)[~mask] for x in (patches_charge, patches_lepton, patches_seg)]\n",
    "    pred_patches = [x.detach().cpu().squeeze(0)[mask] for x in (preds['occ'], preds['charge'], preds['lepton'], preds['seg'])]\n",
    "    \n",
    "    coords_true_all, values_true_all = dataset.patcher.unpatchify(patches_all, patch_ids)\n",
    "    coords_true_nonmasked, values_true_nonmasked = dataset.patcher.unpatchify(patches_nonmasked, patch_ids_nonmasked)\n",
    "    coords_pred, values_pred = dataset.patcher.unpatchify(pred_patches, patch_ids_masked)\n",
    "\n",
    "    charge_true_all, lepton_true_all, seg_true_all = values_true_all\n",
    "    charge_true_nonmasked, lepton_true_nonmasked, seg_true_nonmasked = values_true_nonmasked\n",
    "    occ_pred, charge_pred, lepton_pred, seg_pred = values_pred\n",
    "    occ_pred = torch.sigmoid(occ_pred)\n",
    "\n",
    "    coords_pred_act = coords_pred[occ_pred >= threshold]\n",
    "    charge_pred_act = charge_pred[occ_pred >= threshold]\n",
    "    lepton_pred_act = lepton_pred[occ_pred >= threshold]\n",
    "    seg_pred_act = seg_pred[occ_pred >= threshold]\n",
    "    break\n",
    "    \n",
    "# (0.9139406313093339, 0.4111643100478804, 0.36962088240746027) same"
   ]
  },
  {
   "cell_type": "code",
   "execution_count": null,
   "id": "ad6d91e4-d485-4e75-ad36-7e2af5d59d1d",
   "metadata": {},
   "outputs": [],
   "source": [
    "import matplotlib.pyplot as plt\n",
    "\n",
    "def plot_nonzero_voxels(coords, charges, s=1, cmap='viridis'):\n",
    "    \"\"\"\n",
    "    Plots non-zero voxel locations from a 48×48×200 torch.Tensor in a 3D scatter plot,\n",
    "    coloring each point by its voxel value and scaling the Z‑axis proportionally.\n",
    "\n",
    "    Args:\n",
    "        tensor (torch.Tensor): Input tensor of shape (48, 48, 200).\n",
    "        cmap (str): Name of the Matplotlib colormap to use (default: 'viridis').\n",
    "    \"\"\"\n",
    "    # extract coordinates\n",
    "    x, y, z = coords.T.cpu().numpy()\n",
    "    values = charges.cpu().numpy()\n",
    "\n",
    "    # create 3D scatter\n",
    "    fig = plt.figure()\n",
    "    ax = fig.add_subplot(111, projection='3d')\n",
    "    sc = ax.scatter(z, x, y, c=values, cmap=cmap, s=s)\n",
    "\n",
    "    # labels & limits\n",
    "    ax.set_xlabel('Z (0–199)')\n",
    "    ax.set_ylabel('X (0–47)')\n",
    "    ax.set_zlabel('Y (0–47)')\n",
    "    ax.set_xlim(0, 199)\n",
    "    ax.set_ylim(0, 47)\n",
    "    ax.set_zlim(0, 47)\n",
    "\n",
    "    # aspect ratio: Z axis ~4.17× longer\n",
    "    ax.set_box_aspect((200, 48, 48))\n",
    "\n",
    "    # add colorbar\n",
    "    cbar = fig.colorbar(sc, ax=ax, pad=0.1)\n",
    "    cbar.set_label('Voxel Value')\n",
    "\n",
    "    plt.tight_layout()\n",
    "    plt.show()\n",
    "\n",
    "\n",
    "\n",
    "plot_nonzero_voxels(coords_true_all, charge_true_all)\n",
    "plot_nonzero_voxels(coords_true_nonmasked, charge_true_nonmasked)\n",
    "plot_nonzero_voxels(coords_pred_act, charge_pred_act)\n",
    "plot_nonzero_voxels(torch.cat((coords_true_nonmasked, coords_pred_act)),\n",
    "                    torch.cat((charge_true_nonmasked, charge_pred_act)))\n",
    "\n"
   ]
  },
  {
   "cell_type": "code",
   "execution_count": null,
   "id": "c7986063-5df7-4d15-a7b5-55be0d0202ee",
   "metadata": {},
   "outputs": [],
   "source": []
  },
  {
   "cell_type": "code",
   "execution_count": null,
   "id": "6c291e0c-ece1-46f5-8ba6-0cc959e47ad1",
   "metadata": {},
   "outputs": [],
   "source": []
  }
 ],
 "metadata": {
  "kernelspec": {
   "display_name": "Python 3 (ipykernel)",
   "language": "python",
   "name": "python3"
  },
  "language_info": {
   "codemirror_mode": {
    "name": "ipython",
    "version": 3
   },
   "file_extension": ".py",
   "mimetype": "text/x-python",
   "name": "python",
   "nbconvert_exporter": "python",
   "pygments_lexer": "ipython3",
   "version": "3.10.5"
  }
 },
 "nbformat": 4,
 "nbformat_minor": 5
}
